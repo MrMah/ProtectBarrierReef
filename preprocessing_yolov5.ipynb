{
 "cells": [
  {
   "cell_type": "code",
   "execution_count": 1,
   "metadata": {},
   "outputs": [],
   "source": [
    "# Packages\n",
    "import pandas as pd\n",
    "from helpers import preprocessing"
   ]
  },
  {
   "cell_type": "code",
   "execution_count": 2,
   "metadata": {},
   "outputs": [],
   "source": [
    "# Read labels and add column n annotations\n",
    "labels_src = 'data/train.csv'\n",
    "\n",
    "labels = pd.read_csv(labels_src)\n",
    "\n",
    "labels['n_annotations'] = preprocessing.count_n_annotations(labels)"
   ]
  },
  {
   "cell_type": "code",
   "execution_count": 5,
   "metadata": {},
   "outputs": [
    {
     "name": "stdout",
     "output_type": "stream",
     "text": [
      "2143\n",
      "4565\n",
      "      video_id  sequence  video_frame  sequence_frame image_id  \\\n",
      "16           0     40258           16              16     0-16   \n",
      "17           0     40258           17              17     0-17   \n",
      "18           0     40258           18              18     0-18   \n",
      "19           0     40258           19              19     0-19   \n",
      "20           0     40258           20              20     0-20   \n",
      "...        ...       ...          ...             ...      ...   \n",
      "6674         0       996        12314             889  0-12314   \n",
      "6675         0       996        12315             890  0-12315   \n",
      "6676         0       996        12316             891  0-12316   \n",
      "6677         0       996        12317             892  0-12317   \n",
      "6678         0       996        12318             893  0-12318   \n",
      "\n",
      "                                            annotations  n_annotations  \n",
      "16    [{'x': 559, 'y': 213, 'width': 50, 'height': 32}]              1  \n",
      "17    [{'x': 558, 'y': 213, 'width': 50, 'height': 32}]              1  \n",
      "18    [{'x': 557, 'y': 213, 'width': 50, 'height': 32}]              1  \n",
      "19    [{'x': 556, 'y': 214, 'width': 50, 'height': 32}]              1  \n",
      "20    [{'x': 555, 'y': 214, 'width': 50, 'height': 32}]              1  \n",
      "...                                                 ...            ...  \n",
      "6674  [{'x': 1028, 'y': 637, 'width': 42, 'height': ...              1  \n",
      "6675  [{'x': 1032, 'y': 650, 'width': 42, 'height': ...              1  \n",
      "6676  [{'x': 1036, 'y': 663, 'width': 42, 'height': ...              1  \n",
      "6677  [{'x': 1040, 'y': 678, 'width': 42, 'height': ...              1  \n",
      "6678  [{'x': 1043, 'y': 694, 'width': 42, 'height': ...              1  \n",
      "\n",
      "[2143 rows x 7 columns]\n"
     ]
    }
   ],
   "source": [
    "# Random sample images for training and testing from video_0 folder\n",
    "preprocessing.subsample_images('data/train_images/video_0','data/images', labels, 10)"
   ]
  }
 ],
 "metadata": {
  "interpreter": {
   "hash": "3cf93afa82793c2dd07c51ebb0140cbaba5be57db2603ca7b69f167cce000c6b"
  },
  "kernelspec": {
   "display_name": "Python 3.9.7 64-bit ('barrier-reef': conda)",
   "language": "python",
   "name": "python3"
  },
  "language_info": {
   "codemirror_mode": {
    "name": "ipython",
    "version": 3
   },
   "file_extension": ".py",
   "mimetype": "text/x-python",
   "name": "python",
   "nbconvert_exporter": "python",
   "pygments_lexer": "ipython3",
   "version": "3.9.7"
  },
  "orig_nbformat": 4
 },
 "nbformat": 4,
 "nbformat_minor": 2
}
