{
 "cells": [
  {
   "cell_type": "code",
   "execution_count": 1,
   "metadata": {},
   "outputs": [],
   "source": [
    "# Packages\n",
    "import pandas as pd\n",
    "from helpers.preprocessing import *\n",
    "import ast\n",
    "import numpy as np"
   ]
  },
  {
   "cell_type": "code",
   "execution_count": 2,
   "metadata": {},
   "outputs": [],
   "source": [
    "ROOT_DIR  = ''\n",
    "IMAGE_DIR = './data/images' # directory to save images\n",
    "LABEL_DIR = './data/labels' # directory to save labels\n",
    "RAW_IMAGE_DIR = './data/train_images'\n",
    "N_samples = 220\n",
    "IMAGE_HEIGHT = 1280\n",
    "IMAGE_WIDTH = 720\n"
   ]
  },
  {
   "cell_type": "code",
   "execution_count": 3,
   "metadata": {},
   "outputs": [],
   "source": [
    "# Read labels and add column n annotations\n",
    "labels_src = 'data/train.csv'\n",
    "\n",
    "labels = pd.read_csv(labels_src)\n",
    "labels['n_annotations'] = count_n_annotations(labels)\n",
    "labels = labels.apply(get_path,  args=(ROOT_DIR, IMAGE_DIR, LABEL_DIR), axis=1)\n",
    "labels['annotations'] = labels['annotations'].apply(lambda x: ast.literal_eval(x))\n",
    "labels['bboxes'] = labels.annotations.apply(get_bbox)"
   ]
  },
  {
   "cell_type": "code",
   "execution_count": 4,
   "metadata": {},
   "outputs": [],
   "source": [
    "# Random sample images for training and testing from video_0 folder\n",
    "if len(os.listdir(IMAGE_DIR)) != N_samples:\n",
    "    print('REMOVING OLD FILES, COPYING NEW ONES')\n",
    "    for file in os.listdir(IMAGE_DIR):\n",
    "        os.remove(os.path.join(IMAGE_DIR, file))\n",
    "    subsample_images(os.path.join(RAW_IMAGE_DIR, 'video_0'),'data/images', labels, N_samples, 0.5)"
   ]
  },
  {
   "cell_type": "code",
   "execution_count": 5,
   "metadata": {},
   "outputs": [],
   "source": [
    "# Subset df of labels to subsample of images\n",
    "df = labels[labels.image_path.isin([IMAGE_DIR+'/'+ image_path for image_path in os.listdir(IMAGE_DIR)])]"
   ]
  },
  {
   "cell_type": "code",
   "execution_count": 6,
   "metadata": {},
   "outputs": [
    {
     "name": "stderr",
     "output_type": "stream",
     "text": [
      "c:\\Users\\Lukas Mahieu\\Desktop\\Personal Projects\\ProtectBarrierReef\\helpers\\preprocessing.py:96: SettingWithCopyWarning: \n",
      "A value is trying to be set on a copy of a slice from a DataFrame.\n",
      "Try using .loc[row_indexer,col_indexer] = value instead\n",
      "\n",
      "See the caveats in the documentation: https://pandas.pydata.org/pandas-docs/stable/user_guide/indexing.html#returning-a-view-versus-a-copy\n",
      "  yolo_df['bbox'] = bboxes\n"
     ]
    },
    {
     "data": {
      "text/html": [
       "<div>\n",
       "<style scoped>\n",
       "    .dataframe tbody tr th:only-of-type {\n",
       "        vertical-align: middle;\n",
       "    }\n",
       "\n",
       "    .dataframe tbody tr th {\n",
       "        vertical-align: top;\n",
       "    }\n",
       "\n",
       "    .dataframe thead th {\n",
       "        text-align: right;\n",
       "    }\n",
       "</style>\n",
       "<table border=\"1\" class=\"dataframe\">\n",
       "  <thead>\n",
       "    <tr style=\"text-align: right;\">\n",
       "      <th></th>\n",
       "      <th>label_path</th>\n",
       "      <th>x</th>\n",
       "      <th>y</th>\n",
       "      <th>width</th>\n",
       "      <th>height</th>\n",
       "    </tr>\n",
       "  </thead>\n",
       "  <tbody>\n",
       "    <tr>\n",
       "      <th>0</th>\n",
       "      <td>./data/labels/video_0_15.txt</td>\n",
       "      <td>0.00000</td>\n",
       "      <td>0.00000</td>\n",
       "      <td>0.00000</td>\n",
       "      <td>0.00000</td>\n",
       "    </tr>\n",
       "    <tr>\n",
       "      <th>1</th>\n",
       "      <td>./data/labels/video_0_18.txt</td>\n",
       "      <td>0.45469</td>\n",
       "      <td>0.31806</td>\n",
       "      <td>0.03906</td>\n",
       "      <td>0.04444</td>\n",
       "    </tr>\n",
       "    <tr>\n",
       "      <th>2</th>\n",
       "      <td>./data/labels/video_0_23.txt</td>\n",
       "      <td>0.44062</td>\n",
       "      <td>0.32083</td>\n",
       "      <td>0.04531</td>\n",
       "      <td>0.06667</td>\n",
       "    </tr>\n",
       "    <tr>\n",
       "      <th>3</th>\n",
       "      <td>./data/labels/video_0_43.txt</td>\n",
       "      <td>0.44453</td>\n",
       "      <td>0.23958</td>\n",
       "      <td>0.07187</td>\n",
       "      <td>0.10694</td>\n",
       "    </tr>\n",
       "    <tr>\n",
       "      <th>4</th>\n",
       "      <td>./data/labels/video_0_43.txt</td>\n",
       "      <td>0.50234</td>\n",
       "      <td>0.35139</td>\n",
       "      <td>0.05625</td>\n",
       "      <td>0.05833</td>\n",
       "    </tr>\n",
       "  </tbody>\n",
       "</table>\n",
       "</div>"
      ],
      "text/plain": [
       "                     label_path        x        y    width   height\n",
       "0  ./data/labels/video_0_15.txt  0.00000  0.00000  0.00000  0.00000\n",
       "1  ./data/labels/video_0_18.txt  0.45469  0.31806  0.03906  0.04444\n",
       "2  ./data/labels/video_0_23.txt  0.44062  0.32083  0.04531  0.06667\n",
       "3  ./data/labels/video_0_43.txt  0.44453  0.23958  0.07187  0.10694\n",
       "4  ./data/labels/video_0_43.txt  0.50234  0.35139  0.05625  0.05833"
      ]
     },
     "execution_count": 6,
     "metadata": {},
     "output_type": "execute_result"
    }
   ],
   "source": [
    "# Df to Yolo Format\n",
    "df_yolo = yolo_formatting(df)\n",
    "\n",
    "# Add class label\n",
    "df_yolo.head()"
   ]
  },
  {
   "cell_type": "code",
   "execution_count": 8,
   "metadata": {},
   "outputs": [],
   "source": [
    "# Output yolo format to text file per image\n",
    "for i, row in df_yolo.iterrows():\n",
    "    with open(row.label_path, 'a') as f:\n",
    "        f.write('0 ' + str(row.drop('label_path').values)[1:-1] +'\\n') # 0 = single class label"
   ]
  },
  {
   "cell_type": "code",
   "execution_count": null,
   "metadata": {},
   "outputs": [],
   "source": []
  }
 ],
 "metadata": {
  "interpreter": {
   "hash": "3cf93afa82793c2dd07c51ebb0140cbaba5be57db2603ca7b69f167cce000c6b"
  },
  "kernelspec": {
   "display_name": "Python 3.9.7 64-bit ('barrier-reef': conda)",
   "language": "python",
   "name": "python3"
  },
  "language_info": {
   "codemirror_mode": {
    "name": "ipython",
    "version": 3
   },
   "file_extension": ".py",
   "mimetype": "text/x-python",
   "name": "python",
   "nbconvert_exporter": "python",
   "pygments_lexer": "ipython3",
   "version": "3.9.7"
  },
  "orig_nbformat": 4
 },
 "nbformat": 4,
 "nbformat_minor": 2
}
